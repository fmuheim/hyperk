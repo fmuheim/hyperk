{
 "cells": [
  {
   "cell_type": "code",
   "execution_count": 1,
   "metadata": {
    "collapsed": true
   },
   "outputs": [],
   "source": [
    "import numpy as np\n",
    "import matplotlib.pyplot as plt\n",
    "plt.rc('font', family='serif', size=80)\n",
    "import pylab\n",
    "%matplotlib inline\n",
    "pylab.rcParams['figure.figsize'] = 16, 8"
   ]
  },
  {
   "cell_type": "code",
   "execution_count": null,
   "metadata": {
    "collapsed": false
   },
   "outputs": [
    {
     "data": {
      "application/javascript": [
       "\n",
       "require(['notebook'],\n",
       "  function() {\n",
       "    IPython.CodeCell.config_defaults.highlight_modes['magic_text/x-c++src'] = {'reg':[/^%%cpp/]};\n",
       "    console.log(\"JupyROOT - %%cpp magic configured\");\n",
       "  }\n",
       ");\n"
      ]
     },
     "metadata": {},
     "output_type": "display_data"
    }
   ],
   "source": [
    "import ROOT\n",
    "from root_numpy import root2array, tree2array, fill_hist\n",
    "from sklearn import linear_model, ensemble"
   ]
  },
  {
   "cell_type": "code",
   "execution_count": null,
   "metadata": {
    "collapsed": false
   },
   "outputs": [],
   "source": [
    "rfile = ROOT.TFile('/Disk/ds-sopa-group/PPE/titus/ts-WChRecoSandBox/scripts/editing_ene/outputs/nu_numu_1000_1039_CCQE_12in_energy_studies_recoquant_tree.root')\n",
    "intree = rfile.Get('nu_eneNEW')"
   ]
  },
  {
   "cell_type": "code",
   "execution_count": null,
   "metadata": {
    "collapsed": false
   },
   "outputs": [],
   "source": [
    "E_threshold = 100\n",
    "arr_lo_E = tree2array(intree,selection='trueKE<'+str(E_threshold)\n",
    "arr_hi_E = tree2array(intree,selection='trueKE>'+str(E_threshold))"
   ]
  },
  {
   "cell_type": "code",
   "execution_count": null,
   "metadata": {
    "collapsed": false
   },
   "outputs": [],
   "source": [
    "arr2_lo_E = arr_lo_E[['total_hits2','total_ring_PEs2','recoDWallR2','recoDWallZ2','hits_pot_length2','lambda_max_2']]#,'hits_pot_length2']]\n",
    "arr2_lo_E_n = arr2_lo_E.view(arr2_lo_E.dtype[0]).reshape(arr2_lo_E.shape + (-1,))\n",
    "arr3_lo_E = arr_lo_E['trueKE']\n",
    "arr2_hi_E = arr_hi_E[['total_hits2','total_ring_PEs2','recoDWallR2','recoDWallZ2','hits_pot_length2','lambda_max_2']]#,'hits_pot_length2']]\n",
    "arr2_hi_E_n = arr2_hi_E.view(arr2_hi_E.dtype[0]).reshape(arr2_hi_E.shape + (-1,))\n",
    "arr3_hi_E = arr_hi_E['trueKE']"
   ]
  },
  {
   "cell_type": "code",
   "execution_count": null,
   "metadata": {
    "collapsed": false
   },
   "outputs": [],
   "source": [
    "clf_lo_E = linear_model.SGDRegressor()\n",
    "clf_lo_E.fit(arr2_lo_E_n,arr3_lo_E)\n",
    "clf_lo_E\n",
    "clf_hi_E = linear_model.SGDRegressor()\n",
    "clf_hi_E.fit(arr2_hi_E_n,arr3_hi_E)\n",
    "clf_hi_E"
   ]
  },
  {
   "cell_type": "code",
   "execution_count": null,
   "metadata": {
    "collapsed": false
   },
   "outputs": [],
   "source": [
    "f, (ax1, ax2) = plt.subplots(1, 2)\n",
    "ax1.scatter(arr3_lo_E,clf_lo_E.predict(arr2_lo_E_n)-arr3_lo_E)\n",
    "ax1.set_xlabel(\"trueKE [MeV]\")\n",
    "ax1.set_ylabel(\"recoKE - trueKE [MeV]\")\n",
    "ax2.scatter(arr3_hi_E,clf_hi_E.predict(arr2_hi_E_n)-arr3_hi_E)\n",
    "ax2.set_xlabel(\"trueKE [MeV]\")\n",
    "ax2.set_ylabel(\"recoKE - trueKE [MeV]\")"
   ]
  },
  {
   "cell_type": "code",
   "execution_count": null,
   "metadata": {
    "collapsed": false
   },
   "outputs": [],
   "source": [
    "chain = ROOT.TChain('nu_eneNEW')\n",
    "for i in range(1040,1099):\n",
    "    chain.Add('/Disk/ds-sopa-group/PPE/titus/ts-WChRecoSandBox/scripts/editing_ene/outputs/nu_numu_'+str(i)+'_CCQE_12in_energy_studies_recoquant_tree_NEWlookups.root')\n",
    "test_data_lo_E = tree2array(chain, selection='trueKE<'+str(E_threshold))\n",
    "test_data_hi_E = tree2array(chain, selection='trueKE>'+str(E_threshold))"
   ]
  },
  {
   "cell_type": "code",
   "execution_count": null,
   "metadata": {
    "collapsed": false
   },
   "outputs": [],
   "source": [
    "test_data_reduced_lo_E = test_data_lo_E[['total_hits2','total_ring_PEs2','recoDWallR2','recoDWallZ2','hits_pot_length2','lambda_max_2']]#,'hits_pot_length2']]\n",
    "test_data_reduced_lo_E_n = test_data_reduced_lo_E.view(test_data_reduced_lo_E.dtype[0]).reshape(test_data_reduced_lo_E.shape + (-1,))\n",
    "test_data_trueKE_lo_E = test_data_lo_E['trueKE']\n",
    "test_data_reduced_hi_E = test_data_hi_E[['total_hits2','total_ring_PEs2','recoDWallR2','recoDWallZ2','hits_pot_length2','lambda_max_2']]#,'hits_pot_length2']]\n",
    "test_data_reduced_hi_E_n = test_data_reduced_hi_E.view(test_data_reduced_hi_E.dtype[0]).reshape(test_data_reduced_hi_E.shape + (-1,))\n",
    "test_data_trueKE_hi_E = test_data_hi_E['trueKE']"
   ]
  },
  {
   "cell_type": "code",
   "execution_count": null,
   "metadata": {
    "collapsed": false
   },
   "outputs": [],
   "source": [
    "f, (ax1, ax2) = plt.subplots(1, 2)\n",
    "ax1.scatter(test_data_trueKE_lo_E,clf_lo_E.predict(test_data_reduced_lo_E_n)-test_data_trueKE_lo_E)\n",
    "ax2.scatter(test_data_trueKE_hi_E,clf_hi_E.predict(test_data_reduced_hi_E_n)-test_data_trueKE_hi_E)\n",
    "ax1.set_ylim((-100,100))\n",
    "ax1.set_xlabel(\"trueKE [MeV]\")\n",
    "ax1.set_ylabel(\"recoKE - trueKE [MeV]\")\n",
    "ax2.set_ylim((-5000,1000))\n",
    "ax2.set_xlabel(\"trueKE [MeV]\")\n",
    "ax2.set_ylabel(\"recoKE - trueKE [MeV]\")"
   ]
  },
  {
   "cell_type": "code",
   "execution_count": null,
   "metadata": {
    "collapsed": true
   },
   "outputs": [],
   "source": []
  },
  {
   "cell_type": "code",
   "execution_count": null,
   "metadata": {
    "collapsed": false
   },
   "outputs": [],
   "source": [
    "res_twod_SGD_lo_E = np.dstack((test_data_trueKE_lo_E, np.abs(clf_lo_E.predict(test_data_reduced_lo_E_n)-test_data_trueKE_lo_E)/test_data_trueKE_lo_E))\n",
    "res_twod_SGD_hi_E = np.dstack((test_data_trueKE_hi_E, np.abs(clf_hi_E.predict(test_data_reduced_hi_E_n)-test_data_trueKE_hi_E)/test_data_trueKE_hi_E))"
   ]
  },
  {
   "cell_type": "code",
   "execution_count": null,
   "metadata": {
    "collapsed": false
   },
   "outputs": [],
   "source": [
    "hist_SGD_lo_E = ROOT.TH2D('name_lo', 'title', 100, 0, E_threshold, 100, -1, 10)\n",
    "fill_hist(hist_SGD_lo_E, res_twod_SGD_lo_E[0])\n",
    "hist_SGD_hi_E = ROOT.TH2D('name_hi', 'title', 100, E_threshold, 5000, 100, -1, 10)\n",
    "fill_hist(hist_SGD_hi_E, res_twod_SGD_hi_E[0])\n",
    "c = ROOT.TCanvas()\n",
    "c.Divide(2,1)\n",
    "c.SetLogy(0)\n",
    "c.cd(1)\n",
    "hist_SGD_lo_E.Draw()\n",
    "c.cd(2)\n",
    "hist_SGD_hi_E.Draw()\n",
    "c.Draw()"
   ]
  },
  {
   "cell_type": "code",
   "execution_count": null,
   "metadata": {
    "collapsed": false
   },
   "outputs": [],
   "source": [
    "profile_SGD_lo_E = hist_SGD_lo_E.ProfileX()\n",
    "profile_SGD_lo_E.SetLineColor(ROOT.kBlue)\n",
    "profile_SGD_hi_E = hist_SGD_hi_E.ProfileX()\n",
    "profile_SGD_hi_E.SetLineColor(ROOT.kBlue)\n",
    "c1 = ROOT.TCanvas()\n",
    "c1.Divide(2,1)\n",
    "c1.SetLogy(0)\n",
    "c1.cd(1)\n",
    "profile_SGD_lo_E.Draw()\n",
    "c1.cd(2)\n",
    "profile_SGD_hi_E.Draw()\n",
    "c1.Draw()\n",
    "c1.SetLogy(0)\n",
    "c1.Draw()"
   ]
  },
  {
   "cell_type": "code",
   "execution_count": null,
   "metadata": {
    "collapsed": false
   },
   "outputs": [],
   "source": [
    "params = {'n_estimators': 1000, 'max_depth': 10, 'min_samples_split': 1,\n",
    "          'learning_rate': 0.01, 'loss': 'lad'}\n",
    "net_lo_E = ensemble.GradientBoostingRegressor(**params)\n",
    "net_lo_E.fit(arr2_lo_E_n,arr3_lo_E)\n",
    "net_lo_E\n",
    "net_hi_E = ensemble.GradientBoostingRegressor(**params)\n",
    "net_hi_E.fit(arr2_hi_E_n,arr3_hi_E)\n",
    "net_hi_E"
   ]
  },
  {
   "cell_type": "code",
   "execution_count": null,
   "metadata": {
    "collapsed": false
   },
   "outputs": [],
   "source": [
    "f, (ax1, ax2) = plt.subplots(1, 2)\n",
    "ax1.scatter(arr3_lo_E,net_lo_E.predict(arr2_lo_E_n)-arr3_lo_E,c='r')\n",
    "ax2.scatter(arr3_hi_E,net_hi_E.predict(arr2_hi_E_n)-arr3_hi_E,c='r')\n",
    "ax1.set_xlabel(\"trueKE [MeV]\")\n",
    "ax1.set_ylabel(\"recoKE - trueKE [MeV]\")\n",
    "ax2.set_xlabel(\"trueKE [MeV]\")\n",
    "ax2.set_ylabel(\"recoKE - trueKE [MeV]\")"
   ]
  },
  {
   "cell_type": "code",
   "execution_count": null,
   "metadata": {
    "collapsed": false
   },
   "outputs": [],
   "source": [
    "f, (ax1, ax2) = plt.subplots(1, 2)\n",
    "ax1.scatter(test_data_trueKE_lo_E,(net_lo_E.predict(test_data_reduced_lo_E_n)-test_data_trueKE_lo_E), c='r')\n",
    "ax2.scatter(test_data_trueKE_hi_E,(net_hi_E.predict(test_data_reduced_hi_E_n)-test_data_trueKE_hi_E), c='r')\n",
    "ax1.set_xlabel(\"trueKE [MeV]\")\n",
    "ax1.set_ylabel(\"recoKE - trueKE [MeV]\")\n",
    "ax2.set_xlabel(\"trueKE [MeV]\")\n",
    "ax2.set_ylabel(\"recoKE - trueKE [MeV]\")\n",
    "matrix_lo_E = np.dstack((test_data_trueKE_lo_E , (net_lo_E.predict(test_data_reduced_lo_E_n)-test_data_trueKE_lo_E )))\n",
    "matrix_hi_E = np.dstack((test_data_trueKE_hi_E , (net_hi_E.predict(test_data_reduced_hi_E_n)-test_data_trueKE_hi_E )))"
   ]
  },
  {
   "cell_type": "code",
   "execution_count": null,
   "metadata": {
    "collapsed": false
   },
   "outputs": [],
   "source": [
    "f, (ax1, ax2) = plt.subplots(1, 2)\n",
    "ax1.scatter(test_data_trueKE_lo_E,(np.abs(net_lo_E.predict(test_data_reduced_lo_E_n)-test_data_trueKE_lo_E)/test_data_trueKE_lo_E),c='r')\n",
    "ax2.scatter(test_data_trueKE_hi_E,(np.abs(net_hi_E.predict(test_data_reduced_hi_E_n)-test_data_trueKE_hi_E)/test_data_trueKE_hi_E),c='r')\n",
    "ax1.set_xlabel(\"trueKE [MeV]\")\n",
    "ax1.set_ylabel(\"DeltaE/E\")\n",
    "ax1.set_ylim(0,2)\n",
    "ax2.set_xlabel(\"trueKE [MeV]\")\n",
    "ax2.set_ylabel(\"DeltaE/E\")\n",
    "ax2.set_ylim(0,2)\n",
    "twod_GBR_abs_lo_E = np.dstack((test_data_trueKE_lo_E, np.abs(net_lo_E.predict(test_data_reduced_lo_E_n)-test_data_trueKE_lo_E)/test_data_trueKE_lo_E))\n",
    "twod_GBR_abs_hi_E = np.dstack((test_data_trueKE_hi_E, np.abs(net_hi_E.predict(test_data_reduced_hi_E_n)-test_data_trueKE_hi_E)/test_data_trueKE_hi_E))"
   ]
  },
  {
   "cell_type": "code",
   "execution_count": null,
   "metadata": {
    "collapsed": false
   },
   "outputs": [],
   "source": [
    "hist_GBR_abs_lo_E = ROOT.TH2D('name_GBR_abs_lo_E', 'title', 100, 0, E_threshold, 100, -1, 10)\n",
    "hist_GBR_abs_hi_E = ROOT.TH2D('name_GBR_abs_hi_E', 'title', 100, E_threshold, 2000, 100, -1, 10)\n",
    "fill_hist(hist_GBR_abs_lo_E, twod_GBR_abs_lo_E[0])\n",
    "fill_hist(hist_GBR_abs_hi_E, twod_GBR_abs_hi_E[0])\n",
    "canvas = ROOT.TCanvas()\n",
    "canvas.Divide(2,1)\n",
    "canvas.cd(1)\n",
    "hist_GBR_abs_lo_E.Draw()\n",
    "hist_GBR_abs_lo_E.GetXaxis().SetTitle('true KE [MeV]')\n",
    "hist_GBR_abs_lo_E.GetYaxis().SetTitle('abs(#Delta E)/E')\n",
    "canvas.cd(2)\n",
    "hist_GBR_abs_hi_E.Draw()\n",
    "hist_GBR_abs_hi_E.GetXaxis().SetTitle('true KE [MeV]')\n",
    "hist_GBR_abs_hi_E.GetYaxis().SetTitle('abs(#Delta E)/E')\n",
    "canvas.Draw()"
   ]
  },
  {
   "cell_type": "code",
   "execution_count": null,
   "metadata": {
    "collapsed": false
   },
   "outputs": [],
   "source": [
    "profile_GBR_abs_lo_E = hist_GBR_abs_lo_E.ProfileX()\n",
    "profile_GBR_abs_lo_E.SetLineColor(ROOT.kBlue+2)\n",
    "profile_GBR_abs_lo_E.SetMarkerColor(ROOT.kBlue+2)\n",
    "profile_GBR_abs_lo_E.SetLineWidth(1)\n",
    "profile_GBR_abs_hi_E = hist_GBR_abs_hi_E.ProfileX()\n",
    "profile_GBR_abs_hi_E.SetLineColor(ROOT.kBlue+2)\n",
    "profile_GBR_abs_hi_E.SetMarkerColor(ROOT.kBlue+2)\n",
    "profile_GBR_abs_hi_E.SetLineWidth(1)\n",
    "canvas_prof = ROOT.TCanvas()\n",
    "canvas_prof.Divide(2,1)\n",
    "canvas_prof.cd(1)\n",
    "profile_GBR_abs_lo_E.Draw()\n",
    "profile_GBR_abs_lo_E.SetMinimum(0)\n",
    "profile_GBR_abs_lo_E.SetMaximum(1)\n",
    "profile_GBR_abs_lo_E.GetXaxis().SetTitle('true KE [MeV]')\n",
    "profile_GBR_abs_lo_E.GetYaxis().SetTitle('abs(#Delta E)/E')\n",
    "canvas_prof.cd(2)\n",
    "profile_GBR_abs_hi_E.Draw()\n",
    "profile_GBR_abs_hi_E.SetMinimum(0)\n",
    "profile_GBR_abs_hi_E.SetMaximum(0.5)\n",
    "profile_GBR_abs_hi_E.GetXaxis().SetTitle('true KE [MeV]')\n",
    "profile_GBR_abs_hi_E.GetYaxis().SetTitle('abs(#Delta E)/E')\n",
    "canvas_prof.Draw()"
   ]
  },
  {
   "cell_type": "code",
   "execution_count": null,
   "metadata": {
    "collapsed": false
   },
   "outputs": [],
   "source": [
    "hist_trueKE = ROOT.TH1D('trueKE', 'title', 100, 0, 5000)\n",
    "hist_recoKE_lo_E = ROOT.TH1D('recoKE', 'title', 4, 0, E_threshold)\n",
    "hist_recoKE_hi_E = ROOT.TH1D('recoKE_GBR', 'title', 96, E_threshold, 5000)\n",
    "hist_trueKE.SetLineColor(ROOT.kBlack)\n",
    "hist_recoKE_lo_E.SetLineColor(ROOT.kRed+2)\n",
    "hist_recoKE_hi_E.SetLineColor(ROOT.kBlue+2)\n",
    "hist_trueKE.SetLineWidth(2)\n",
    "hist_recoKE_lo_E.SetLineWidth(2)\n",
    "hist_recoKE_hi_E.SetLineWidth(2)\n",
    "fill_hist(hist_trueKE, test_data_trueKE)\n",
    "fill_hist(hist_recoKE_lo_E, net_lo_E.predict(test_data_reduced_lo_E_n))\n",
    "fill_hist(hist_recoKE_hi_E, net_hi_E.predict(test_data_reduced_hi_E_n))\n",
    "c2 = ROOT.TCanvas()\n",
    "hist_trueKE.Draw()\n",
    "hist_recoKE_lo_E.Draw(\"same\")\n",
    "hist_recoKE_hi_E.Draw(\"same\")\n",
    "hist_trueKE.GetXaxis().SetTitle('true or reco KE [MeV]')\n",
    "hist_trueKE.GetYaxis().SetTitle('Events')\n",
    "c2.SetLogy()\n",
    "c2.Draw()"
   ]
  },
  {
   "cell_type": "code",
   "execution_count": null,
   "metadata": {
    "collapsed": false
   },
   "outputs": [],
   "source": [
    "hist_trueKE_zoom = ROOT.TH1D('trueKE_zoom', 'title', 100, 0, 2000)\n",
    "hist_recoKE_zoom = ROOT.TH1D('recoKE_zoom', 'title', 100, 0, 2000)\n",
    "hist_recoKE_GBR_zoom = ROOT.TH1D('recoKE_GBR_zoom', 'title', 100, 0, 2000)\n",
    "hist_trueKE_zoom.SetLineColor(ROOT.kBlack)\n",
    "hist_recoKE_zoom.SetLineColor(ROOT.kRed)\n",
    "hist_recoKE_GBR_zoom.SetLineColor(ROOT.kBlue+2)\n",
    "hist_trueKE_zoom.SetLineWidth(2)\n",
    "hist_recoKE_GBR_zoom.SetLineWidth(2)\n",
    "fill_hist(hist_trueKE_zoom, test_data_trueKE)\n",
    "fill_hist(hist_recoKE_zoom, clf.predict(test_data_reduced_n))\n",
    "fill_hist(hist_recoKE_GBR_zoom, net.predict(test_data_reduced_n))\n",
    "hist_trueKE_zoom.Draw()\n",
    "#hist_recoKE_zoom.Draw(\"same\")\n",
    "hist_recoKE_GBR_zoom.Draw(\"same\")\n",
    "hist_trueKE_zoom.GetXaxis().SetTitle('true or reco KE [MeV]')\n",
    "hist_trueKE_zoom.GetYaxis().SetTitle('Events')\n",
    "ROOT.gPad.SetLogy()\n",
    "ROOT.gPad.Draw()"
   ]
  },
  {
   "cell_type": "code",
   "execution_count": null,
   "metadata": {
    "collapsed": false
   },
   "outputs": [],
   "source": [
    "net.feature_importances_"
   ]
  },
  {
   "cell_type": "code",
   "execution_count": null,
   "metadata": {
    "collapsed": true
   },
   "outputs": [],
   "source": []
  }
 ],
 "metadata": {
  "kernelspec": {
   "display_name": "Python 2",
   "language": "python",
   "name": "python2"
  },
  "language_info": {
   "codemirror_mode": {
    "name": "ipython",
    "version": 2
   },
   "file_extension": ".py",
   "mimetype": "text/x-python",
   "name": "python",
   "nbconvert_exporter": "python",
   "pygments_lexer": "ipython2",
   "version": "2.7.10"
  }
 },
 "nbformat": 4,
 "nbformat_minor": 1
}
